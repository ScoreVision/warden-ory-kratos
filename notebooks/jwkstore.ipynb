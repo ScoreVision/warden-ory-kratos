{
 "cells": [
  {
   "cell_type": "code",
   "execution_count": 11,
   "id": "amber-catalog",
   "metadata": {},
   "outputs": [
    {
     "data": {
      "text/plain": [
       "false"
      ]
     },
     "execution_count": 11,
     "metadata": {},
     "output_type": "execute_result"
    }
   ],
   "source": [
    "require 'json'\n",
    "require 'jwt'\n",
    "require 'open-uri'"
   ]
  },
  {
   "cell_type": "code",
   "execution_count": 31,
   "id": "bronze-cincinnati",
   "metadata": {},
   "outputs": [
    {
     "data": {
      "text/plain": [
       ":delete"
      ]
     },
     "execution_count": 31,
     "metadata": {},
     "output_type": "execute_result"
    }
   ],
   "source": [
    "class JWKStore\n",
    "      def initialize\n",
    "        @items = {}\n",
    "      end\n",
    "\n",
    "      def [](index)\n",
    "        @items[index]\n",
    "      end\n",
    "\n",
    "      def []=(index, value)\n",
    "        if jwk.is_a?(JWT::JWK)\n",
    "          @items[index] = value\n",
    "        else\n",
    "          @items[index] = JWT::JWK.import(value)\n",
    "        end\n",
    "      end\n",
    "\n",
    "      def import(uri)\n",
    "        jwk_hash = URI.parse(uri).open do |f|\n",
    "          JSON.parse(f.read)\n",
    "        end\n",
    "        jwk_hash[\"keys\"].each do |k|\n",
    "          jwk = JWT::JWK.import(k)\n",
    "          @items[jwk.kid] = jwk\n",
    "        end\n",
    "      end\n",
    "\n",
    "      def delete(index)\n",
    "        @items.delete(index)\n",
    "      end\n",
    "    end"
   ]
  },
  {
   "cell_type": "code",
   "execution_count": 32,
   "id": "israeli-discount",
   "metadata": {},
   "outputs": [
    {
     "data": {
      "text/plain": [
       "#<#<Class:0x000000010d9d0428>::JWKStore:0x000000010e2cd148 @items={}>"
      ]
     },
     "execution_count": 32,
     "metadata": {},
     "output_type": "execute_result"
    }
   ],
   "source": [
    "j = JWKStore.new"
   ]
  },
  {
   "cell_type": "code",
   "execution_count": 33,
   "id": "modern-strike",
   "metadata": {},
   "outputs": [
    {
     "data": {
      "text/plain": [
       "[{\"use\"=>\"sig\", \"kty\"=>\"EC\", \"kid\"=>\"69774b26-dc78-44d4-b564-a66709e139d6\", \"crv\"=>\"P-256\", \"alg\"=>\"ES256\", \"x\"=>\"-efYTtSGlAyFRTAKdFqmXWk5LMK-UxcW1TH0h_lL0NY\", \"y\"=>\"2CjZiwwMyU5ZBWR40l4FvTfkEPfqTAqhTUsDOgMEryw\"}]"
      ]
     },
     "execution_count": 33,
     "metadata": {},
     "output_type": "execute_result"
    }
   ],
   "source": [
    "j.import('http://localhost:4000/.ory/jwks.json')"
   ]
  },
  {
   "cell_type": "code",
   "execution_count": 34,
   "id": "blocked-carpet",
   "metadata": {},
   "outputs": [
    {
     "data": {
      "text/plain": [
       "#<#<Class:0x000000010d9d0428>::JWKStore:0x000000010e2cd148 @items={\"69774b26-dc78-44d4-b564-a66709e139d6\"=>#<JWT::JWK::EC:0x000000010e2e5ec8 @keypair=#<OpenSSL::PKey::EC:0x000000010e2e6030 oid=id-ecPublicKey>, @kid=\"69774b26-dc78-44d4-b564-a66709e139d6\">}>"
      ]
     },
     "execution_count": 34,
     "metadata": {},
     "output_type": "execute_result"
    }
   ],
   "source": [
    "j"
   ]
  },
  {
   "cell_type": "code",
   "execution_count": 36,
   "id": "suspended-prisoner",
   "metadata": {},
   "outputs": [
    {
     "data": {
      "text/plain": [
       "#<OpenSSL::PKey::EC:0x000000010e2e6030 oid=id-ecPublicKey>"
      ]
     },
     "execution_count": 36,
     "metadata": {},
     "output_type": "execute_result"
    }
   ],
   "source": [
    "j['69774b26-dc78-44d4-b564-a66709e139d6'].keypair"
   ]
  }
 ],
 "metadata": {
  "kernelspec": {
   "display_name": "Ruby 3.1.0",
   "language": "ruby",
   "name": "ruby"
  },
  "language_info": {
   "file_extension": ".rb",
   "mimetype": "application/x-ruby",
   "name": "ruby",
   "version": "3.1.0"
  }
 },
 "nbformat": 4,
 "nbformat_minor": 5
}
