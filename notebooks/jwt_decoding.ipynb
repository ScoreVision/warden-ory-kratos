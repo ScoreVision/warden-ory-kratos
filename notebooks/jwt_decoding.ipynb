{
 "cells": [
  {
   "cell_type": "markdown",
   "id": "academic-watts",
   "metadata": {},
   "source": [
    "# JWT decoding\n",
    "\n",
    "## Implementation notes"
   ]
  },
  {
   "cell_type": "code",
   "execution_count": 1,
   "id": "affected-standing",
   "metadata": {},
   "outputs": [
    {
     "data": {
      "text/plain": [
       "false"
      ]
     },
     "execution_count": 1,
     "metadata": {},
     "output_type": "execute_result"
    }
   ],
   "source": [
    "require 'jwt'\n",
    "require 'net/http'\n",
    "require 'uri'"
   ]
  },
  {
   "cell_type": "code",
   "execution_count": 2,
   "id": "variable-spine",
   "metadata": {},
   "outputs": [
    {
     "data": {
      "text/plain": [
       "#<URI::HTTP http://localhost:4000/.ory/jwks.json>"
      ]
     },
     "execution_count": 2,
     "metadata": {},
     "output_type": "execute_result"
    }
   ],
   "source": [
    "jwks_url = URI('http://localhost:4000/.ory/jwks.json')"
   ]
  },
  {
   "cell_type": "code",
   "execution_count": 3,
   "id": "demographic-demonstration",
   "metadata": {},
   "outputs": [
    {
     "data": {
      "text/plain": [
       "{\"keys\"=>[{\"use\"=>\"sig\", \"kty\"=>\"EC\", \"kid\"=>\"92ff6e61-b060-4ec8-a0ad-2f671b2a7722\", \"crv\"=>\"P-256\", \"alg\"=>\"ES256\", \"x\"=>\"ms7FslVfJ7KNd4Gl27bFpMI16IyEkkBX4Vpi8jeJFYw\", \"y\"=>\"SBrMwpaAmKWowNfg-DBTb3UbsvTmRwTqJfy4t4dqJ5U\"}]}"
      ]
     },
     "execution_count": 3,
     "metadata": {},
     "output_type": "execute_result"
    }
   ],
   "source": [
    "proxy_jwks = ::JSON.parse(Net::HTTP.get(jwks_url))"
   ]
  },
  {
   "cell_type": "code",
   "execution_count": 9,
   "id": "advisory-theater",
   "metadata": {},
   "outputs": [
    {
     "data": {
      "text/plain": [
       "{\"use\"=>\"sig\", \"kty\"=>\"EC\", \"kid\"=>\"92ff6e61-b060-4ec8-a0ad-2f671b2a7722\", \"crv\"=>\"P-256\", \"alg\"=>\"ES256\", \"x\"=>\"ms7FslVfJ7KNd4Gl27bFpMI16IyEkkBX4Vpi8jeJFYw\", \"y\"=>\"SBrMwpaAmKWowNfg-DBTb3UbsvTmRwTqJfy4t4dqJ5U\"}"
      ]
     },
     "execution_count": 9,
     "metadata": {},
     "output_type": "execute_result"
    }
   ],
   "source": [
    "proxy_jwks[\"keys\"][0]"
   ]
  },
  {
   "cell_type": "code",
   "execution_count": 10,
   "id": "union-bridges",
   "metadata": {},
   "outputs": [
    {
     "data": {
      "text/plain": [
       "#<JWT::JWK::EC:0x00000001076f11b8 @keypair=#<OpenSSL::PKey::EC:0x00000001076f14b0 oid=id-ecPublicKey>, @kid=\"92ff6e61-b060-4ec8-a0ad-2f671b2a7722\">"
      ]
     },
     "execution_count": 10,
     "metadata": {},
     "output_type": "execute_result"
    }
   ],
   "source": [
    "JWT::JWK::EC.import(proxy_jwks[\"keys\"][0])"
   ]
  },
  {
   "cell_type": "code",
   "execution_count": 11,
   "id": "veterinary-balloon",
   "metadata": {},
   "outputs": [
    {
     "data": {
      "text/plain": [
       "#<JWT::JWK::EC:0x0000000107702878 @keypair=#<OpenSSL::PKey::EC:0x0000000107702968 oid=id-ecPublicKey>, @kid=\"92ff6e61-b060-4ec8-a0ad-2f671b2a7722\">"
      ]
     },
     "execution_count": 11,
     "metadata": {},
     "output_type": "execute_result"
    }
   ],
   "source": [
    "jwk = JWT::JWK::EC.import(proxy_jwks[\"keys\"][0])"
   ]
  },
  {
   "cell_type": "code",
   "execution_count": 13,
   "id": "tropical-connectivity",
   "metadata": {},
   "outputs": [
    {
     "data": {
      "text/plain": [
       "[:public_key, :export, :private?, :keypair, :kid, :pretty_print, :pretty_print_inspect, :pretty_print_cycle, :pretty_print_instance_variables, :to_json, :singleton_class, :dup, :itself, :taint, :tainted?, :untaint, :untrust, :untrusted?, :trust, :methods, :singleton_methods, :protected_methods, :private_methods, :public_methods, :instance_variables, :instance_variable_get, :instance_variable_set, :instance_variable_defined?, :remove_instance_variable, :instance_of?, :kind_of?, :is_a?, :display, :hash, :public_send, :class, :frozen?, :tap, :yield_self, :then, :extend, :clone, :method, :public_method, :singleton_method, :<=>, :define_singleton_method, :===, :=~, :!~, :pretty_inspect, :nil?, :eql?, :respond_to?, :gem, :freeze, :inspect, :object_id, :send, :to_enum, :enum_for, :to_s, :__send__, :!, :instance_eval, :==, :instance_exec, :!=, :equal?, :__id__]"
      ]
     },
     "execution_count": 13,
     "metadata": {},
     "output_type": "execute_result"
    }
   ],
   "source": [
    "jwk.methods"
   ]
  },
  {
   "cell_type": "code",
   "execution_count": 14,
   "id": "scientific-seating",
   "metadata": {},
   "outputs": [
    {
     "data": {
      "text/plain": [
       "#<OpenSSL::PKey::EC::Point:0x0000000107738630 @group=#<OpenSSL::PKey::EC::Group:0x0000000107738608>>"
      ]
     },
     "execution_count": 14,
     "metadata": {},
     "output_type": "execute_result"
    }
   ],
   "source": [
    "jwk.public_key"
   ]
  },
  {
   "cell_type": "code",
   "execution_count": 16,
   "id": "ordinary-tongue",
   "metadata": {},
   "outputs": [
    {
     "data": {
      "text/plain": [
       "\"eyJhbGciOiJFUzI1NiIsInR5cCI6IkpXVCJ9.eyJleHAiOjE2NjIwOTU0NzMsImlhdCI6MTY2MjA5NTQxMywiaXNzIjoiaHR0cHM6Ly9iZWF1dGlmdWwtZ29vZGFsbC0wODhldms0eHVpLnByb2plY3RzLm9yeWFwaXMuY29tLyIsImp0aSI6ImM2MGM2NmQzLWEyZjAtNDQzZC05YjIzLWI0MDU5YjJjNDBkYiIsIm5iZiI6MTY2MjA5NTQxMywic2Vzc2lvbiI6eyJpZCI6ImFkMjYxZmYxLTQ0M2ItNDhiNC05MTRiLTI2MmQ2MzgwNDEyMyIsImFjdGl2ZSI6dHJ1ZSwiZXhwaXJlc19hdCI6IjIwMjItMDktMDJUMTc6NTc6MjAuMTE2ODg1WiIsImF1dGhlbnRpY2F0ZWRfYXQiOiIyMDIyLTA4LTMwVDE3OjU3OjIwLjExNjg4NVoiLCJhdXRoZW50aWNhdG9yX2Fzc3VyYW5jZV9sZXZlbCI6ImFhbDEiLCJhdXRoZW50aWNhdGlvbl9tZXRob2RzIjpbeyJtZXRob2QiOiJwYXNzd29yZCIsImFhbCI6ImFhbDEiLCJjb21wbGV0ZWRfYXQiOiIyMDIyLTA4LTMwVDE3OjU3OjIwLjExNjg4MjQzMVoifV0sImlzc3VlZF9hdCI6IjIwMjItMDgtMzBUMTc6NTc6MjAuMTE2ODg1WiIsImlkZW50aXR5Ijp7ImlkIjoiOGQ3YjllM2YtM2ZlZi00MTQwLTlhZDMtNTA5YzUyOWRkZmM0Iiwic2NoZW1hX2lkIjoicHJlc2V0Oi8vZW1haWwiLCJzY2hlbWFfdXJsIjoiaHR0cHM6Ly9iZWF1dGlmdWwtZ29vZGFsbC0wODhldms0eHVpLnByb2plY3RzLm9yeWFwaXMuY29tL3NjaGVtYXMvY0hKbGMyVjBPaTh2WlcxaGFXdyIsInN0YXRlIjoiYWN0aXZlIiwic3RhdGVfY2hhbmdlZF9hdCI6IjIwMjItMDgtMzBUMDI6MTM6MjIuMjAzMTIxWiIsInRyYWl0cyI6eyJlbWFpbCI6Inpub3JyaXMra3JhdG9zQXVnMjlAZ21haWwuY29tIn0sInZlcmlmaWFibGVfYWRkcmVzc2VzIjpbeyJpZCI6ImNlOWFjZTJhLWNlZjgtNGE1Yi04Zjg0LTIxMzU1MTY1YzA3MCIsInZhbHVlIjoiem5vcnJpcytrcmF0b3NhdWcyOUBnbWFpbC5jb20iLCJ2ZXJpZmllZCI6dHJ1ZSwidmlhIjoiZW1haWwiLCJzdGF0dXMiOiJjb21wbGV0ZWQiLCJ2ZXJpZmllZF9hdCI6IjIwMjItMDgtMzBUMDI6MTc6NTMuMzAwMTIyWiIsImNyZWF0ZWRfYXQiOiIyMDIyLTA4LTMwVDAyOjEzOjIyLjIxNTMyNloiLCJ1cGRhdGVkX2F0IjoiMjAyMi0wOC0zMFQwMjoxMzoyMi4yMTUzMjZaIn1dLCJyZWNvdmVyeV9hZGRyZXNzZXMiOlt7ImlkIjoiZmI5ZTkyNTMtZjA0Yi00ZjNiLWJlM2QtMmQ0YTQwMzQyYWQ1IiwidmFsdWUiOiJ6bm9ycmlzK2tyYXRvc2F1ZzI5QGdtYWlsLmNvbSIsInZpYSI6ImVtYWlsIiwiY3JlYXRlZF9hdCI6IjIwMjItMDgtMzBUMDI6MTM6MjIuMjI2MjE2WiIsInVwZGF0ZWRfYXQiOiIyMDIyLTA4LTMwVDAyOjEzOjIyLjIyNjIxNloifV0sIm1ldGFkYXRhX3B1YmxpYyI6bnVsbCwiY3JlYXRlZF9hdCI6IjIwMjItMDgtMzBUMDI6MTM6MjIuMjA2NTk4WiIsInVwZGF0ZWRfYXQiOiIyMDIyLTA4LTMwVDAyOjEzOjIyLjIwNjU5OFoifX0sInN1YiI6IjhkN2I5ZTNmLTNmZWYtNDE0MC05YWQzLTUwOWM1MjlkZGZjNCJ9.QfXaSTjF9wZhgFIv7ajHI2XuNiyWm5Mjp_QgvRd97392yCE6u-Dxpm1FUejTGCO4Mh8_kY8MflcfPR6pWqHfQA\""
      ]
     },
     "execution_count": 16,
     "metadata": {},
     "output_type": "execute_result"
    }
   ],
   "source": [
    "jwt_string = 'eyJhbGciOiJFUzI1NiIsInR5cCI6IkpXVCJ9.eyJleHAiOjE2NjIwOTU0NzMsImlhdCI6MTY2MjA5NTQxMywiaXNzIjoiaHR0cHM6Ly9iZWF1dGlmdWwtZ29vZGFsbC0wODhldms0eHVpLnByb2plY3RzLm9yeWFwaXMuY29tLyIsImp0aSI6ImM2MGM2NmQzLWEyZjAtNDQzZC05YjIzLWI0MDU5YjJjNDBkYiIsIm5iZiI6MTY2MjA5NTQxMywic2Vzc2lvbiI6eyJpZCI6ImFkMjYxZmYxLTQ0M2ItNDhiNC05MTRiLTI2MmQ2MzgwNDEyMyIsImFjdGl2ZSI6dHJ1ZSwiZXhwaXJlc19hdCI6IjIwMjItMDktMDJUMTc6NTc6MjAuMTE2ODg1WiIsImF1dGhlbnRpY2F0ZWRfYXQiOiIyMDIyLTA4LTMwVDE3OjU3OjIwLjExNjg4NVoiLCJhdXRoZW50aWNhdG9yX2Fzc3VyYW5jZV9sZXZlbCI6ImFhbDEiLCJhdXRoZW50aWNhdGlvbl9tZXRob2RzIjpbeyJtZXRob2QiOiJwYXNzd29yZCIsImFhbCI6ImFhbDEiLCJjb21wbGV0ZWRfYXQiOiIyMDIyLTA4LTMwVDE3OjU3OjIwLjExNjg4MjQzMVoifV0sImlzc3VlZF9hdCI6IjIwMjItMDgtMzBUMTc6NTc6MjAuMTE2ODg1WiIsImlkZW50aXR5Ijp7ImlkIjoiOGQ3YjllM2YtM2ZlZi00MTQwLTlhZDMtNTA5YzUyOWRkZmM0Iiwic2NoZW1hX2lkIjoicHJlc2V0Oi8vZW1haWwiLCJzY2hlbWFfdXJsIjoiaHR0cHM6Ly9iZWF1dGlmdWwtZ29vZGFsbC0wODhldms0eHVpLnByb2plY3RzLm9yeWFwaXMuY29tL3NjaGVtYXMvY0hKbGMyVjBPaTh2WlcxaGFXdyIsInN0YXRlIjoiYWN0aXZlIiwic3RhdGVfY2hhbmdlZF9hdCI6IjIwMjItMDgtMzBUMDI6MTM6MjIuMjAzMTIxWiIsInRyYWl0cyI6eyJlbWFpbCI6Inpub3JyaXMra3JhdG9zQXVnMjlAZ21haWwuY29tIn0sInZlcmlmaWFibGVfYWRkcmVzc2VzIjpbeyJpZCI6ImNlOWFjZTJhLWNlZjgtNGE1Yi04Zjg0LTIxMzU1MTY1YzA3MCIsInZhbHVlIjoiem5vcnJpcytrcmF0b3NhdWcyOUBnbWFpbC5jb20iLCJ2ZXJpZmllZCI6dHJ1ZSwidmlhIjoiZW1haWwiLCJzdGF0dXMiOiJjb21wbGV0ZWQiLCJ2ZXJpZmllZF9hdCI6IjIwMjItMDgtMzBUMDI6MTc6NTMuMzAwMTIyWiIsImNyZWF0ZWRfYXQiOiIyMDIyLTA4LTMwVDAyOjEzOjIyLjIxNTMyNloiLCJ1cGRhdGVkX2F0IjoiMjAyMi0wOC0zMFQwMjoxMzoyMi4yMTUzMjZaIn1dLCJyZWNvdmVyeV9hZGRyZXNzZXMiOlt7ImlkIjoiZmI5ZTkyNTMtZjA0Yi00ZjNiLWJlM2QtMmQ0YTQwMzQyYWQ1IiwidmFsdWUiOiJ6bm9ycmlzK2tyYXRvc2F1ZzI5QGdtYWlsLmNvbSIsInZpYSI6ImVtYWlsIiwiY3JlYXRlZF9hdCI6IjIwMjItMDgtMzBUMDI6MTM6MjIuMjI2MjE2WiIsInVwZGF0ZWRfYXQiOiIyMDIyLTA4LTMwVDAyOjEzOjIyLjIyNjIxNloifV0sIm1ldGFkYXRhX3B1YmxpYyI6bnVsbCwiY3JlYXRlZF9hdCI6IjIwMjItMDgtMzBUMDI6MTM6MjIuMjA2NTk4WiIsInVwZGF0ZWRfYXQiOiIyMDIyLTA4LTMwVDAyOjEzOjIyLjIwNjU5OFoifX0sInN1YiI6IjhkN2I5ZTNmLTNmZWYtNDE0MC05YWQzLTUwOWM1MjlkZGZjNCJ9.QfXaSTjF9wZhgFIv7ajHI2XuNiyWm5Mjp_QgvRd97392yCE6u-Dxpm1FUejTGCO4Mh8_kY8MflcfPR6pWqHfQA'"
   ]
  },
  {
   "cell_type": "code",
   "execution_count": 17,
   "id": "legislative-sponsorship",
   "metadata": {},
   "outputs": [
    {
     "data": {
      "text/plain": [
       "{:algorithm=>\"ES256\", :verify_expiration=>true, :verify_not_before=>true, :verify_iat=>true, :required_claims=>[\"identity\"]}"
      ]
     },
     "execution_count": 17,
     "metadata": {},
     "output_type": "execute_result"
    }
   ],
   "source": [
    "DECODE_OPTIONS = {\n",
    "          algorithm: 'ES256',\n",
    "          # jwks: KEY_LOADER,\n",
    "          verify_expiration: true,\n",
    "          verify_not_before: true,\n",
    "          verify_iat: true,\n",
    "          required_claims: [\n",
    "            'identity'\n",
    "          ]\n",
    "        }.freeze"
   ]
  },
  {
   "cell_type": "code",
   "execution_count": 19,
   "id": "brazilian-farming",
   "metadata": {},
   "outputs": [
    {
     "ename": "JWT::VerificationError",
     "evalue": "Signature verification failed",
     "output_type": "error",
     "traceback": [
      "\u001b[31mJWT::VerificationError\u001b[0m: Signature verification failed",
      "/Users/znorris/.rvm/gems/ruby-3.1.0@warden-ory-kratos/gems/jwt-2.4.1/lib/jwt/decode.rb:49:in `verify_signature'",
      "/Users/znorris/.rvm/gems/ruby-3.1.0@warden-ory-kratos/gems/jwt-2.4.1/lib/jwt/decode.rb:30:in `decode_segments'",
      "/Users/znorris/.rvm/gems/ruby-3.1.0@warden-ory-kratos/gems/jwt-2.4.1/lib/jwt.rb:28:in `decode'",
      "(irb):in `<top (required)>'"
     ]
    }
   ],
   "source": [
    "JWT.decode(jwt_string, jwk.keypair, true, DECODE_OPTIONS)"
   ]
  },
  {
   "cell_type": "markdown",
   "id": "sitting-mechanics",
   "metadata": {},
   "source": []
  },
  {
   "cell_type": "code",
   "execution_count": 21,
   "id": "framed-glance",
   "metadata": {},
   "outputs": [
    {
     "data": {
      "text/plain": [
       "#<JWT::JWK::EC:0x0000000107682a60 @keypair=#<OpenSSL::PKey::EC:0x0000000107682bc8 oid=id-ecPublicKey>, @kid=\"92ff6e61-b060-4ec8-a0ad-2f671b2a7722\">"
      ]
     },
     "execution_count": 21,
     "metadata": {},
     "output_type": "execute_result"
    }
   ],
   "source": [
    "generic_import_jwk = JWT::JWK.import(proxy_jwks[\"keys\"][0])"
   ]
  },
  {
   "cell_type": "code",
   "execution_count": 22,
   "id": "oriental-sullivan",
   "metadata": {},
   "outputs": [
    {
     "data": {
      "text/plain": [
       "JWT::JWK::EC"
      ]
     },
     "execution_count": 22,
     "metadata": {},
     "output_type": "execute_result"
    }
   ],
   "source": [
    "generic_import_jwk.class"
   ]
  },
  {
   "cell_type": "code",
   "execution_count": null,
   "id": "naval-array",
   "metadata": {},
   "outputs": [],
   "source": []
  }
 ],
 "metadata": {
  "kernelspec": {
   "display_name": "Ruby 3.1.0",
   "language": "ruby",
   "name": "ruby"
  },
  "language_info": {
   "file_extension": ".rb",
   "mimetype": "application/x-ruby",
   "name": "ruby",
   "version": "3.1.0"
  }
 },
 "nbformat": 4,
 "nbformat_minor": 5
}
