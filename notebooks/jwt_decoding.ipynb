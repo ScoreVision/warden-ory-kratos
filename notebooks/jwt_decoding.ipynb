{
 "cells": [
  {
   "cell_type": "markdown",
   "id": "innovative-preservation",
   "metadata": {},
   "source": [
    "# JWT decoding\n",
    "\n",
    "## Implementation notes"
   ]
  },
  {
   "cell_type": "code",
   "execution_count": 14,
   "id": "electoral-tulsa",
   "metadata": {},
   "outputs": [
    {
     "data": {
      "text/plain": [
       "false"
      ]
     },
     "execution_count": 14,
     "metadata": {},
     "output_type": "execute_result"
    }
   ],
   "source": [
    "require 'jwt'\n",
    "require 'net/http'\n",
    "require 'uri'"
   ]
  },
  {
   "cell_type": "code",
   "execution_count": 19,
   "id": "cardiovascular-bones",
   "metadata": {},
   "outputs": [
    {
     "data": {
      "text/plain": [
       "#<URI::HTTP http://localhost:4000/.ory/jwks.json>"
      ]
     },
     "execution_count": 19,
     "metadata": {},
     "output_type": "execute_result"
    }
   ],
   "source": [
    "jwks_url = URI('http://localhost:4000/.ory/jwks.json')"
   ]
  },
  {
   "cell_type": "code",
   "execution_count": 20,
   "id": "focused-dylan",
   "metadata": {},
   "outputs": [
    {
     "data": {
      "text/plain": [
       "{\"keys\"=>[{\"use\"=>\"sig\", \"kty\"=>\"EC\", \"kid\"=>\"1af93b59-9e42-4ac0-954e-332d8df5bc81\", \"crv\"=>\"P-256\", \"alg\"=>\"ES256\", \"x\"=>\"wY33P528TA3LnT2ol3DcOE7J6d4FYMFllzIr9YxDYjk\", \"y\"=>\"cq2fXAN0zDMGnpIns3d6GmxJLc2aH-cYjjzy1EUvXD8\"}]}"
      ]
     },
     "execution_count": 20,
     "metadata": {},
     "output_type": "execute_result"
    }
   ],
   "source": [
    "proxy_jwks = ::JSON.parse(Net::HTTP.get(jwks_url))"
   ]
  },
  {
   "cell_type": "code",
   "execution_count": null,
   "id": "grave-prevention",
   "metadata": {},
   "outputs": [],
   "source": []
  }
 ],
 "metadata": {
  "kernelspec": {
   "display_name": "Ruby 3.1.0",
   "language": "ruby",
   "name": "ruby"
  },
  "language_info": {
   "file_extension": ".rb",
   "mimetype": "application/x-ruby",
   "name": "ruby",
   "version": "3.1.0"
  }
 },
 "nbformat": 4,
 "nbformat_minor": 5
}
